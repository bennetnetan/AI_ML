{
  "nbformat": 4,
  "nbformat_minor": 0,
  "metadata": {
    "colab": {
      "provenance": [],
      "collapsed_sections": [
        "uBrGzo9shrSI",
        "Gz6qxHRWh_7y",
        "xmC2f83TYKqI",
        "TflIuUnhimEd",
        "pB0kBlLojEs-",
        "_LdLotIijeXa",
        "AvRrBDp3n24Q",
        "vM1xFX9Bus0u",
        "vPmdNKwlxI5v"
      ],
      "toc_visible": true,
      "include_colab_link": true
    },
    "kernelspec": {
      "name": "python3",
      "display_name": "Python 3"
    },
    "language_info": {
      "name": "python"
    }
  },
  "cells": [
    {
      "cell_type": "markdown",
      "metadata": {
        "id": "view-in-github",
        "colab_type": "text"
      },
      "source": [
        "<a href=\"https://colab.research.google.com/github/bennetnetan/AI_ML/blob/master/%5BPractice_Notebook%5D_AfterWork_Developing_Applications_Using_DeepSeek.ipynb\" target=\"_parent\"><img src=\"https://colab.research.google.com/assets/colab-badge.svg\" alt=\"Open In Colab\"/></a>"
      ]
    },
    {
      "cell_type": "markdown",
      "source": [
        "# [Practice Notebook] AfterWork: Developing Applications Using DeepSeek"
      ],
      "metadata": {
        "id": "ibs9yCFozGQm"
      }
    },
    {
      "cell_type": "markdown",
      "source": [
        "# Pre-requisites"
      ],
      "metadata": {
        "id": "uBrGzo9shrSI"
      }
    },
    {
      "cell_type": "markdown",
      "source": [
        "Before we start, let's ensure we have the required libraries installed and our API key set up.\n",
        "\n"
      ],
      "metadata": {
        "id": "b2YdAujdh1cC"
      }
    },
    {
      "cell_type": "code",
      "source": [
        "# Import necessary library\n",
        "from openai import OpenAI\n",
        "\n",
        "# Set up the DeepSeek client with your API key\n",
        "client = OpenAI(api_key=\"sk-69efb9c4117b4bd9acf7bcc4468f9777\", base_url=\"https://api.deepseek.com\")"
      ],
      "metadata": {
        "id": "kQ1n-14Yhvms"
      },
      "execution_count": null,
      "outputs": []
    },
    {
      "cell_type": "markdown",
      "source": [
        "You can visit [DeepSeek's page](https://api.deepseek.com/) or [OpenRouter](https://openrouter.ai/) for free access."
      ],
      "metadata": {
        "id": "uwnbskxJ0uU_"
      }
    },
    {
      "cell_type": "markdown",
      "source": [
        "# 1. Generating Text Using DeepSeek"
      ],
      "metadata": {
        "id": "Gz6qxHRWh_7y"
      }
    },
    {
      "cell_type": "markdown",
      "source": [
        "DeepSeek models are designed to generate text from various inputs. Understanding how to use these models is crucial for leveraging their capabilities in generating text from diverse inputs.\n",
        "\n"
      ],
      "metadata": {
        "id": "JZm56isKh-Hi"
      }
    },
    {
      "cell_type": "markdown",
      "source": [
        "This example demonstrates how we generate text using the DeepSeek model by providing a simple text prompt.\n",
        "\n"
      ],
      "metadata": {
        "id": "7PUozDSHiHRY"
      }
    },
    {
      "cell_type": "code",
      "source": [
        "# Generate text from a text prompt using the DeepSeek model\n",
        "response = client.chat.completions.create(\n",
        "    model=\"deepseek-chat\",\n",
        "    messages=[\n",
        "        {\"role\": \"system\", \"content\": \"You are a helpful assistant\"},\n",
        "        {\"role\": \"user\", \"content\": \"Explain how AI works.\"}\n",
        "    ]\n",
        ")\n",
        "\n",
        "# Print the generated text\n",
        "print(response.choices[0].message.content)"
      ],
      "metadata": {
        "id": "9-hfMBd4ftcg"
      },
      "execution_count": null,
      "outputs": []
    },
    {
      "cell_type": "markdown",
      "source": [
        "We specify which DeepSeek model to use with the model parameter. The messages parameter contains the conversation history, including the system message and user prompt.\n",
        "\n"
      ],
      "metadata": {
        "id": "S67iCaI5iN8w"
      }
    },
    {
      "cell_type": "markdown",
      "source": [
        "## <font color=\"green\">Challenge</font>"
      ],
      "metadata": {
        "id": "xmC2f83TYKqI"
      }
    },
    {
      "cell_type": "markdown",
      "source": [
        "How can you use the DeepSeek model to summarize a given text?"
      ],
      "metadata": {
        "id": "quztsOSUifj_"
      }
    },
    {
      "cell_type": "code",
      "source": [
        "# Define the text to be summarized\n",
        "text = \"Artificial Intelligence (AI) is a broad field of computer science dedicated to creating smart machines capable of performing tasks that typically require human intelligence.\"\n",
        "\n",
        "# Generate a summary of the given text\n",
        "\n",
        "\n",
        "# Print the summarized text\n"
      ],
      "metadata": {
        "id": "Tn1ZzVzihP78"
      },
      "execution_count": null,
      "outputs": []
    },
    {
      "cell_type": "markdown",
      "source": [
        "# 2. Structured Output"
      ],
      "metadata": {
        "id": "TflIuUnhimEd"
      }
    },
    {
      "cell_type": "markdown",
      "source": [
        "Generating structured outputs like JSON is useful for applications requiring standardized data formats. This is critical for automating data extraction and integrating AI outputs into other systems.\n",
        "\n"
      ],
      "metadata": {
        "id": "p4e8Oyt7ip2C"
      }
    },
    {
      "cell_type": "code",
      "source": [
        "# Generate JSON output quickly\n",
        "response = client.chat.completions.create(\n",
        "    model=\"deepseek-chat\",\n",
        "    messages=[\n",
        "        {\"role\": \"system\", \"content\": \"You are a helpful assistant\"},\n",
        "        {\"role\": \"user\", \"content\": \"List three popular fruits in JSON format.\"}\n",
        "    ],\n",
        "    response_format={\"type\": \"json_object\"},\n",
        "    temperature=0\n",
        ")\n",
        "\n",
        "# Print the model's response\n",
        "print(response.choices[0].message.content)"
      ],
      "metadata": {
        "id": "t8nAGTr8itbG"
      },
      "execution_count": null,
      "outputs": []
    },
    {
      "cell_type": "markdown",
      "source": [
        "We set the response_format parameter to {\"type\": \"json_object\"} to ensure the output is in JSON format. The user prompt specifies the desired JSON structure.\n",
        "\n"
      ],
      "metadata": {
        "id": "NQQHHY57tWoV"
      }
    },
    {
      "cell_type": "markdown",
      "source": [
        "## <font color=\"green\">Challenge</font>"
      ],
      "metadata": {
        "id": "pB0kBlLojEs-"
      }
    },
    {
      "cell_type": "markdown",
      "source": [
        "How can you use the DeepSeek model to generate a JSON list of fashion items, including their name, price, and available sizes?"
      ],
      "metadata": {
        "id": "Djrak3bQjEs_"
      }
    },
    {
      "cell_type": "code",
      "source": [
        "# Generate JSON output using the defined structure\n",
        "\n",
        "\n",
        "# Print the JSON output\n",
        "\n"
      ],
      "metadata": {
        "id": "wHlwbk7gjEtA"
      },
      "execution_count": null,
      "outputs": []
    },
    {
      "cell_type": "markdown",
      "source": [
        "The deepseek-reasoner model is used to generate a reasoning process. The response includes both the reasoning content and the final answer.\n",
        "\n"
      ],
      "metadata": {
        "id": "LuePSpNXi-ro"
      }
    },
    {
      "cell_type": "markdown",
      "source": [
        "# 3. Thinking"
      ],
      "metadata": {
        "id": "_LdLotIijeXa"
      }
    },
    {
      "cell_type": "markdown",
      "source": [
        "Generating a \"thinking process\" as part of the response enhances reasoning capabilities and improves transparency in AI-generated outputs.\n",
        "\n"
      ],
      "metadata": {
        "id": "DGecyalwjhB2"
      }
    },
    {
      "cell_type": "code",
      "source": [
        "# Explain reinforcement learning with reasoning\n",
        "response = client.chat.completions.create(\n",
        "    model=\"deepseek-reasoner\",\n",
        "    messages=[\n",
        "        {\"role\": \"system\", \"content\": \"You are a helpful assistant\"},\n",
        "        {\"role\": \"user\", \"content\": \"Explain how reinforcement learning works.\"}\n",
        "    ]\n",
        ")\n",
        "\n",
        "# Print the reasoning content and the final answer\n",
        "print(\"Reasoning Content:\", response.choices[0].message.reasoning_content)\n",
        "print(\"Final Answer:\", response.choices[0].message.content)"
      ],
      "metadata": {
        "id": "v89xnJg5jjDh"
      },
      "execution_count": null,
      "outputs": []
    },
    {
      "cell_type": "markdown",
      "source": [
        "We use the deepseek-reasoner model to generate a reasoning process. The response includes both the reasoning content and the final answer.\n",
        "\n"
      ],
      "metadata": {
        "id": "9s2Og2P1nwv1"
      }
    },
    {
      "cell_type": "markdown",
      "source": [
        "## <font color=\"green\">Challenge</font>"
      ],
      "metadata": {
        "id": "AvRrBDp3n24Q"
      }
    },
    {
      "cell_type": "markdown",
      "source": [
        "How can you use the DeepSeek model to explain the concept of blockchain technology with a detailed reasoning process?"
      ],
      "metadata": {
        "id": "MpngjgoEn24R"
      }
    },
    {
      "cell_type": "code",
      "source": [
        "# Explain blockchain technology with reasoning\n",
        "\n",
        "\n",
        "# Print the reasoning content and the final answer\n"
      ],
      "metadata": {
        "id": "aTpf00O5n24S"
      },
      "execution_count": null,
      "outputs": []
    },
    {
      "cell_type": "markdown",
      "source": [
        "# 4. Building Basic Applications"
      ],
      "metadata": {
        "id": "vM1xFX9Bus0u"
      }
    },
    {
      "cell_type": "markdown",
      "source": [
        "Let's explore how we can package the knowledge we've gained into basic applications. We'll start with an example and then provide some questions to help us practice building more applications.\n",
        "\n"
      ],
      "metadata": {
        "id": "c7WKNcz7ux1s"
      }
    },
    {
      "cell_type": "markdown",
      "source": [
        "This example demonstrates how we can create a simple AI text summarizer application using a DeepSeek model.\n",
        "\n"
      ],
      "metadata": {
        "id": "BuJM1AMAu-t8"
      }
    },
    {
      "cell_type": "code",
      "source": [
        "# Import necessary libraries\n",
        "from openai import OpenAI\n",
        "\n",
        "# Set up the DeepSeek client with our API key\n",
        "client = OpenAI(api_key=\"sk-69efb9c4117b4bd9acf7bcc4468f9777\", base_url=\"https://api.deepseek.com\")\n",
        "\n",
        "# Create a function to generate a summary\n",
        "def summarize_text(text):\n",
        "    response = client.chat.completions.create(\n",
        "        model=\"deepseek-chat\",\n",
        "        messages=[\n",
        "            {\"role\": \"system\", \"content\": \"You are a helpful assistant\"},\n",
        "            {\"role\": \"user\", \"content\": f\"Summarize the following text: {text}\"}\n",
        "        ]\n",
        "    )\n",
        "    return response.choices[0].message.content\n",
        "\n",
        "# Example usage\n",
        "if __name__ == \"__main__\":\n",
        "    text = \"\"\"Artificial Intelligence (AI) is a broad field of computer science dedicated to creating smart machines\n",
        "    capable of performing tasks that typically require human intelligence.\"\"\"\n",
        "\n",
        "    summary = summarize_text(text)\n",
        "\n",
        "    print(\"Summary:\", summary)"
      ],
      "metadata": {
        "id": "VQiAppCju_9X"
      },
      "execution_count": null,
      "outputs": []
    },
    {
      "cell_type": "markdown",
      "source": [
        "## <font color=\"green\">Challenge</font>"
      ],
      "metadata": {
        "id": "vPmdNKwlxI5v"
      }
    },
    {
      "cell_type": "markdown",
      "source": [
        "How can we build an application that summarizes employee feedback to help HR teams identify common issues and improve workplace satisfaction?"
      ],
      "metadata": {
        "id": "LAeVfQPfxI5x"
      }
    },
    {
      "cell_type": "code",
      "source": [
        "# Import necessary libraries\n",
        "from openai import OpenAI\n",
        "\n",
        "# Set up the DeepSeek client with our API key\n",
        "client = OpenAI(api_key=\"sk-69efb9c4117b4bd9acf7bcc4468f9777\", base_url=\"https://api.deepseek.com\")\n",
        "\n",
        "# Create a function to generate a summary of the employee feedback\n",
        "\n",
        "\n",
        "# Example usage\n",
        "if __name__ == \"__main__\":\n",
        "    text = \"Employees have reported issues with the current work-from-home policy...\"\n"
      ],
      "metadata": {
        "id": "8X_3oaiWxL7K"
      },
      "execution_count": null,
      "outputs": []
    }
  ]
}